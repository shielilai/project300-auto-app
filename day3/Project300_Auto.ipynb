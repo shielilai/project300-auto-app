{
 "cells": [
  {
   "cell_type": "code",
   "execution_count": 3,
   "id": "413c8b3e-ab8a-444e-8144-4ce84cc72844",
   "metadata": {},
   "outputs": [],
   "source": [
    "import pandas as pd, numpy as np, matplotlib.pyplot as plt\n",
    "%matplotlib inline\n",
    "CSV_PATH = \"auto_sales_sample.csv\"\n"
   ]
  },
  {
   "cell_type": "code",
   "execution_count": 4,
   "id": "4ebe5ff4-476a-463b-98b9-c176268fd2c0",
   "metadata": {},
   "outputs": [
    {
     "name": "stdout",
     "output_type": "stream",
     "text": [
      "Shape: (50, 8)\n"
     ]
    },
    {
     "data": {
      "text/html": [
       "<div>\n",
       "<style scoped>\n",
       "    .dataframe tbody tr th:only-of-type {\n",
       "        vertical-align: middle;\n",
       "    }\n",
       "\n",
       "    .dataframe tbody tr th {\n",
       "        vertical-align: top;\n",
       "    }\n",
       "\n",
       "    .dataframe thead th {\n",
       "        text-align: right;\n",
       "    }\n",
       "</style>\n",
       "<table border=\"1\" class=\"dataframe\">\n",
       "  <thead>\n",
       "    <tr style=\"text-align: right;\">\n",
       "      <th></th>\n",
       "      <th>VehicleID</th>\n",
       "      <th>Make</th>\n",
       "      <th>Model</th>\n",
       "      <th>Year</th>\n",
       "      <th>Mileage</th>\n",
       "      <th>ListPrice</th>\n",
       "      <th>DaysOnLot</th>\n",
       "      <th>FastSale</th>\n",
       "    </tr>\n",
       "  </thead>\n",
       "  <tbody>\n",
       "    <tr>\n",
       "      <th>0</th>\n",
       "      <td>V0001</td>\n",
       "      <td>Ford</td>\n",
       "      <td>Fusion</td>\n",
       "      <td>2024</td>\n",
       "      <td>68156</td>\n",
       "      <td>67691</td>\n",
       "      <td>23</td>\n",
       "      <td>1</td>\n",
       "    </tr>\n",
       "    <tr>\n",
       "      <th>1</th>\n",
       "      <td>V0002</td>\n",
       "      <td>Ford</td>\n",
       "      <td>Focus</td>\n",
       "      <td>2022</td>\n",
       "      <td>92124</td>\n",
       "      <td>85580</td>\n",
       "      <td>45</td>\n",
       "      <td>0</td>\n",
       "    </tr>\n",
       "    <tr>\n",
       "      <th>2</th>\n",
       "      <td>V0003</td>\n",
       "      <td>BMW</td>\n",
       "      <td>3 Series</td>\n",
       "      <td>2017</td>\n",
       "      <td>61197</td>\n",
       "      <td>76809</td>\n",
       "      <td>35</td>\n",
       "      <td>0</td>\n",
       "    </tr>\n",
       "    <tr>\n",
       "      <th>3</th>\n",
       "      <td>V0004</td>\n",
       "      <td>Ford</td>\n",
       "      <td>Fusion</td>\n",
       "      <td>2023</td>\n",
       "      <td>53583</td>\n",
       "      <td>84441</td>\n",
       "      <td>27</td>\n",
       "      <td>1</td>\n",
       "    </tr>\n",
       "    <tr>\n",
       "      <th>4</th>\n",
       "      <td>V0005</td>\n",
       "      <td>BMW</td>\n",
       "      <td>3 Series</td>\n",
       "      <td>2015</td>\n",
       "      <td>51834</td>\n",
       "      <td>82218</td>\n",
       "      <td>23</td>\n",
       "      <td>1</td>\n",
       "    </tr>\n",
       "  </tbody>\n",
       "</table>\n",
       "</div>"
      ],
      "text/plain": [
       "  VehicleID  Make     Model  Year  Mileage  ListPrice  DaysOnLot  FastSale\n",
       "0     V0001  Ford    Fusion  2024    68156      67691         23         1\n",
       "1     V0002  Ford     Focus  2022    92124      85580         45         0\n",
       "2     V0003   BMW  3 Series  2017    61197      76809         35         0\n",
       "3     V0004  Ford    Fusion  2023    53583      84441         27         1\n",
       "4     V0005   BMW  3 Series  2015    51834      82218         23         1"
      ]
     },
     "metadata": {},
     "output_type": "display_data"
    },
    {
     "name": "stdout",
     "output_type": "stream",
     "text": [
      "\n",
      "Missing values:\n"
     ]
    },
    {
     "data": {
      "text/plain": [
       "VehicleID    0\n",
       "Make         0\n",
       "Model        0\n",
       "Year         0\n",
       "Mileage      0\n",
       "ListPrice    0\n",
       "DaysOnLot    0\n",
       "FastSale     0\n",
       "dtype: int64"
      ]
     },
     "metadata": {},
     "output_type": "display_data"
    },
    {
     "name": "stdout",
     "output_type": "stream",
     "text": [
      "\n",
      "Numeric summary:\n"
     ]
    },
    {
     "data": {
      "text/html": [
       "<div>\n",
       "<style scoped>\n",
       "    .dataframe tbody tr th:only-of-type {\n",
       "        vertical-align: middle;\n",
       "    }\n",
       "\n",
       "    .dataframe tbody tr th {\n",
       "        vertical-align: top;\n",
       "    }\n",
       "\n",
       "    .dataframe thead th {\n",
       "        text-align: right;\n",
       "    }\n",
       "</style>\n",
       "<table border=\"1\" class=\"dataframe\">\n",
       "  <thead>\n",
       "    <tr style=\"text-align: right;\">\n",
       "      <th></th>\n",
       "      <th>Year</th>\n",
       "      <th>Mileage</th>\n",
       "      <th>ListPrice</th>\n",
       "      <th>DaysOnLot</th>\n",
       "      <th>FastSale</th>\n",
       "    </tr>\n",
       "  </thead>\n",
       "  <tbody>\n",
       "    <tr>\n",
       "      <th>count</th>\n",
       "      <td>50.000000</td>\n",
       "      <td>50.000000</td>\n",
       "      <td>50.000000</td>\n",
       "      <td>50.000000</td>\n",
       "      <td>50.000000</td>\n",
       "    </tr>\n",
       "    <tr>\n",
       "      <th>mean</th>\n",
       "      <td>2018.100000</td>\n",
       "      <td>64523.860000</td>\n",
       "      <td>81577.160000</td>\n",
       "      <td>34.460000</td>\n",
       "      <td>0.320000</td>\n",
       "    </tr>\n",
       "    <tr>\n",
       "      <th>std</th>\n",
       "      <td>3.512369</td>\n",
       "      <td>13407.401273</td>\n",
       "      <td>19343.974984</td>\n",
       "      <td>8.569547</td>\n",
       "      <td>0.471212</td>\n",
       "    </tr>\n",
       "    <tr>\n",
       "      <th>min</th>\n",
       "      <td>2012.000000</td>\n",
       "      <td>39330.000000</td>\n",
       "      <td>39553.000000</td>\n",
       "      <td>15.000000</td>\n",
       "      <td>0.000000</td>\n",
       "    </tr>\n",
       "    <tr>\n",
       "      <th>25%</th>\n",
       "      <td>2015.000000</td>\n",
       "      <td>55990.500000</td>\n",
       "      <td>67388.750000</td>\n",
       "      <td>26.250000</td>\n",
       "      <td>0.000000</td>\n",
       "    </tr>\n",
       "    <tr>\n",
       "      <th>50%</th>\n",
       "      <td>2018.500000</td>\n",
       "      <td>64444.000000</td>\n",
       "      <td>81206.000000</td>\n",
       "      <td>35.000000</td>\n",
       "      <td>0.000000</td>\n",
       "    </tr>\n",
       "    <tr>\n",
       "      <th>75%</th>\n",
       "      <td>2021.000000</td>\n",
       "      <td>72611.500000</td>\n",
       "      <td>96133.250000</td>\n",
       "      <td>41.000000</td>\n",
       "      <td>1.000000</td>\n",
       "    </tr>\n",
       "    <tr>\n",
       "      <th>max</th>\n",
       "      <td>2024.000000</td>\n",
       "      <td>99502.000000</td>\n",
       "      <td>129264.000000</td>\n",
       "      <td>52.000000</td>\n",
       "      <td>1.000000</td>\n",
       "    </tr>\n",
       "  </tbody>\n",
       "</table>\n",
       "</div>"
      ],
      "text/plain": [
       "              Year       Mileage      ListPrice  DaysOnLot   FastSale\n",
       "count    50.000000     50.000000      50.000000  50.000000  50.000000\n",
       "mean   2018.100000  64523.860000   81577.160000  34.460000   0.320000\n",
       "std       3.512369  13407.401273   19343.974984   8.569547   0.471212\n",
       "min    2012.000000  39330.000000   39553.000000  15.000000   0.000000\n",
       "25%    2015.000000  55990.500000   67388.750000  26.250000   0.000000\n",
       "50%    2018.500000  64444.000000   81206.000000  35.000000   0.000000\n",
       "75%    2021.000000  72611.500000   96133.250000  41.000000   1.000000\n",
       "max    2024.000000  99502.000000  129264.000000  52.000000   1.000000"
      ]
     },
     "metadata": {},
     "output_type": "display_data"
    }
   ],
   "source": [
    "df = pd.read_csv(CSV_PATH)\n",
    "print(\"Shape:\", df.shape)\n",
    "display(df.head())\n",
    "print(\"\\nMissing values:\"); display(df.isnull().sum())\n",
    "print(\"\\nNumeric summary:\"); display(df.describe())\n"
   ]
  },
  {
   "cell_type": "code",
   "execution_count": 5,
   "id": "e1ed1f59-b52d-46b3-8d28-44fb8685edd6",
   "metadata": {},
   "outputs": [
    {
     "name": "stdout",
     "output_type": "stream",
     "text": [
      "Duplicates removed: 0\n",
      "Nulls after cleaning:\n"
     ]
    },
    {
     "data": {
      "text/plain": [
       "VehicleID    0\n",
       "Make         0\n",
       "Model        0\n",
       "Year         0\n",
       "Mileage      0\n",
       "ListPrice    0\n",
       "DaysOnLot    0\n",
       "FastSale     0\n",
       "dtype: int64"
      ]
     },
     "metadata": {},
     "output_type": "display_data"
    },
    {
     "name": "stdout",
     "output_type": "stream",
     "text": [
      "Saved: cleaned_auto_sales.csv\n"
     ]
    }
   ],
   "source": [
    "df_clean = df.copy()\n",
    "\n",
    "# Numeric / categorical split\n",
    "num_cols = df_clean.select_dtypes(include=[np.number]).columns.tolist()\n",
    "cat_cols = [c for c in df_clean.columns if c not in num_cols]\n",
    "\n",
    "# Fill nulls\n",
    "for c in num_cols:\n",
    "    df_clean[c] = df_clean[c].fillna(df_clean[c].median())\n",
    "for c in cat_cols:\n",
    "    m = df_clean[c].mode(dropna=True)\n",
    "    df_clean[c] = df_clean[c].fillna(m.iloc[0] if len(m) else \"Unknown\")\n",
    "\n",
    "# Drop duplicates\n",
    "before = len(df_clean)\n",
    "df_clean = df_clean.drop_duplicates()\n",
    "after = len(df_clean)\n",
    "\n",
    "print(f\"Duplicates removed: {before-after}\")\n",
    "print(\"Nulls after cleaning:\")\n",
    "display(df_clean.isnull().sum())\n",
    "\n",
    "# Save cleaned dataset\n",
    "df_clean.to_csv(\"cleaned_auto_sales.csv\", index=False)\n",
    "print(\"Saved: cleaned_auto_sales.csv\")\n"
   ]
  },
  {
   "cell_type": "code",
   "execution_count": 6,
   "id": "f651dd20-cf73-42d2-9280-f3a963a8a4e2",
   "metadata": {},
   "outputs": [
    {
     "data": {
      "image/png": "[encoded data removed]",
      "text/plain": [
       "<Figure size 640x480 with 1 Axes>"
      ]
     },
     "metadata": {},
     "output_type": "display_data"
    },
    {
     "data": {
      "image/png": "[encoded data removed]",
      "text/plain": [
       "<Figure size 640x480 with 1 Axes>"
      ]
     },
     "metadata": {},
     "output_type": "display_data"
    },
    {
     "data": {
      "image/png": "[encoded data removed]",
      "text/plain": [
       "<Figure size 640x480 with 1 Axes>"
      ]
     },
     "metadata": {},
     "output_type": "display_data"
    },
    {
     "data": {
      "image/png": "[encoded data removed]",
      "text/plain": [
       "<Figure size 640x480 with 1 Axes>"
      ]
     },
     "metadata": {},
     "output_type": "display_data"
    },
    {
     "name": "stdout",
     "output_type": "stream",
     "text": [
      "\n",
      "Avg DaysOnLot by Make:\n"
     ]
    },
    {
     "data": {
      "text/plain": [
       "Make\n",
       "Toyota    32.857143\n",
       "BMW       33.266667\n",
       "Honda     34.454545\n",
       "Ford      36.176471\n",
       "Name: DaysOnLot, dtype: float64"
      ]
     },
     "metadata": {},
     "output_type": "display_data"
    },
    {
     "name": "stdout",
     "output_type": "stream",
     "text": [
      "\n",
      "FastSale rate by Model:\n"
     ]
    },
    {
     "data": {
      "text/plain": [
       "Model\n",
       "Corolla     0.666667\n",
       "Fusion      0.500000\n",
       "Civic       0.444444\n",
       "3 Series    0.375000\n",
       "Camry       0.250000\n",
       "Focus       0.222222\n",
       "Accord      0.000000\n",
       "5 Series    0.000000\n",
       "Name: FastSale, dtype: float64"
      ]
     },
     "metadata": {},
     "output_type": "display_data"
    }
   ],
   "source": [
    "for col in [\"ListPrice\",\"Mileage\",\"DaysOnLot\",\"Year\"]:\n",
    "    if col in df_clean.columns:\n",
    "        plt.figure()\n",
    "        df_clean[col].hist()\n",
    "        plt.title(f\"Distribution of {col}\")\n",
    "        plt.xlabel(col)\n",
    "        plt.ylabel(\"Frequency\")\n",
    "        plt.show()\n",
    "\n",
    "print(\"\\nAvg DaysOnLot by Make:\")\n",
    "display(df_clean.groupby(\"Make\")[\"DaysOnLot\"].mean().sort_values())\n",
    "\n",
    "print(\"\\nFastSale rate by Model:\")\n",
    "display(df_clean.groupby(\"Model\")[\"FastSale\"].mean().sort_values(ascending=False))\n"
   ]
  },
  {
   "cell_type": "code",
   "execution_count": 9,
   "id": "6e5f286c-734a-47ed-a3bb-67e7cf542ce2",
   "metadata": {},
   "outputs": [
    {
     "name": "stdout",
     "output_type": "stream",
     "text": [
      "Accuracy: 1.0\n",
      "\n",
      "Confusion Matrix:\n",
      " [[7 0]\n",
      " [0 3]]\n",
      "\n",
      "Classification Report:\n",
      "               precision    recall  f1-score   support\n",
      "\n",
      "           0       1.00      1.00      1.00         7\n",
      "           1       1.00      1.00      1.00         3\n",
      "\n",
      "    accuracy                           1.00        10\n",
      "   macro avg       1.00      1.00      1.00        10\n",
      "weighted avg       1.00      1.00      1.00        10\n",
      "\n",
      "\n",
      "Feature importances:\n"
     ]
    },
    {
     "data": {
      "text/plain": [
       "DaysOnLot    0.785403\n",
       "Year         0.083504\n",
       "ListPrice    0.077757\n",
       "Mileage      0.053336\n",
       "dtype: float64"
      ]
     },
     "metadata": {},
     "output_type": "display_data"
    }
   ],
   "source": [
    "from sklearn.model_selection import train_test_split\n",
    "from sklearn.ensemble import RandomForestClassifier\n",
    "from sklearn.metrics import accuracy_score, confusion_matrix, classification_report\n",
    "\n",
    "X = df_clean[[\"Year\",\"Mileage\",\"ListPrice\",\"DaysOnLot\"]]\n",
    "y = df_clean[\"FastSale\"]\n",
    "\n",
    "X_train, X_test, y_train, y_test = train_test_split(X, y, test_size=0.2, random_state=42)\n",
    "\n",
    "model = RandomForestClassifier(random_state=42)\n",
    "model.fit(X_train, y_train)\n",
    "\n",
    "preds = model.predict(X_test)\n",
    "\n",
    "print(\"Accuracy:\", round(accuracy_score(y_test, preds),3))\n",
    "print(\"\\nConfusion Matrix:\\n\", confusion_matrix(y_test, preds))\n",
    "print(\"\\nClassification Report:\\n\", classification_report(y_test, preds))\n",
    "\n",
    "importances = pd.Series(model.feature_importances_, index=X.columns).sort_values(ascending=False)\n",
    "print(\"\\nFeature importances:\")\n",
    "display(importances)\n"
   ]
  },
  {
   "cell_type": "code",
   "execution_count": null,
   "id": "049742ff-b9ae-4af3-a9f7-58029440553f",
   "metadata": {},
   "outputs": [],
   "source": []
  }
 ],
 "metadata": {
  "kernelspec": {
   "display_name": "Python 3 (ipykernel)",
   "language": "python",
   "name": "python3"
  },
  "language_info": {
   "codemirror_mode": {
    "name": "ipython",
    "version": 3
   },
   "file_extension": ".py",
   "mimetype": "text/x-python",
   "name": "python",
   "nbconvert_exporter": "python",
   "pygments_lexer": "ipython3",
   "version": "3.13.6"
  }
 },
 "nbformat": 4,
 "nbformat_minor": 5
}
